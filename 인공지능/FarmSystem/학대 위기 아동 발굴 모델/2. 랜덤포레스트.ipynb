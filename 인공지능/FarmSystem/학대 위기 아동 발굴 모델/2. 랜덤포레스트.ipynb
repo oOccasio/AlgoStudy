{
 "cells": [
  {
   "cell_type": "code",
   "execution_count": 5,
   "id": "1d9d25a8-4e0d-424d-bc5b-fcf7d803fda6",
   "metadata": {},
   "outputs": [
    {
     "name": "stderr",
     "output_type": "stream",
     "text": [
      "C:\\Users\\Public\\Documents\\ESTsoft\\CreatorTemp\\ipykernel_12000\\432201226.py:10: DtypeWarning: Columns (58,59,60,61,62,63,64,65,66,67,68,69,70,71,72,73,74,75) have mixed types. Specify dtype option on import or set low_memory=False.\n",
      "  df = pd.read_csv(file_path)\n"
     ]
    },
    {
     "name": "stdout",
     "output_type": "stream",
     "text": [
      "              precision    recall  f1-score   support\n",
      "\n",
      "           0       0.42      0.41      0.42       514\n",
      "           1       0.67      0.64      0.65       760\n",
      "           2       0.71      0.81      0.76       139\n",
      "           3       0.81      0.79      0.80      1796\n",
      "           4       0.69      0.79      0.74       180\n",
      "           5       0.00      0.00      0.00         2\n",
      "           6       0.85      0.92      0.88       636\n",
      "\n",
      "    accuracy                           0.74      4027\n",
      "   macro avg       0.59      0.62      0.61      4027\n",
      "weighted avg       0.73      0.74      0.73      4027\n",
      "\n"
     ]
    }
   ],
   "source": [
    "import pandas as pd\n",
    "from sklearn.feature_extraction.text import TfidfVectorizer\n",
    "from sklearn.ensemble import RandomForestClassifier\n",
    "from sklearn.model_selection import train_test_split\n",
    "from sklearn.metrics import classification_report\n",
    "from imblearn.over_sampling import SMOTE\n",
    "\n",
    "\n",
    "file_path = 'qa_by_item_separated.csv'  \n",
    "df = pd.read_csv(file_path)\n",
    "\n",
    "df['전체질문'] = df[[f'질문{i}' for i in range(1, 37)]].apply(lambda row: ' '.join(row.dropna()), axis=1)\n",
    "\n",
    "tfidf_vectorizer = TfidfVectorizer(max_features=1000)  \n",
    "X = tfidf_vectorizer.fit_transform(df['전체질문']).toarray()\n",
    "\n",
    "from sklearn.preprocessing import LabelEncoder\n",
    "le = LabelEncoder()\n",
    "df['위기단계_encoded'] = le.fit_transform(df['위기단계'])\n",
    "y = df['위기단계_encoded']\n",
    "\n",
    "X_train, X_test, y_train, y_test = train_test_split(X, y, test_size=0.2, random_state=42)\n",
    "\n",
    "from imblearn.over_sampling import SMOTE\n",
    "\n",
    "smote = SMOTE(random_state=42, k_neighbors=2)\n",
    "X_train_resampled, y_train_resampled = smote.fit_resample(X_train, y_train)\n",
    "\n",
    "clf = RandomForestClassifier(class_weight='balanced')\n",
    "clf.fit(X_train_resampled, y_train_resampled)\n",
    "\n",
    "y_pred = clf.predict(X_test)\n",
    "\n",
    "print(classification_report(y_test, y_pred, zero_division=0))"
   ]
  }
 ],
 "metadata": {
  "kernelspec": {
   "display_name": "Python 3 (ipykernel)",
   "language": "python",
   "name": "python3"
  },
  "language_info": {
   "codemirror_mode": {
    "name": "ipython",
    "version": 3
   },
   "file_extension": ".py",
   "mimetype": "text/x-python",
   "name": "python",
   "nbconvert_exporter": "python",
   "pygments_lexer": "ipython3",
   "version": "3.12.4"
  }
 },
 "nbformat": 4,
 "nbformat_minor": 5
}
